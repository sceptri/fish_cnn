{
 "cells": [
  {
   "cell_type": "markdown",
   "metadata": {},
   "source": [
    "**Import Libraries**"
   ]
  },
  {
   "cell_type": "code",
   "execution_count": 1,
   "metadata": {},
   "outputs": [],
   "source": [
    "import torch\n",
    "import torch.nn as nn\n",
    "import torch.nn.functional as F\n",
    "import torch.optim as optim\n",
    "from torchvision import datasets, transforms\n",
    "\n",
    "from io import BytesIO\n",
    "from zipfile import ZipFile\n",
    "from urllib.request import urlretrieve\n",
    "\n",
    "from IPython.display import Image\n",
    "import os"
   ]
  },
  {
   "cell_type": "markdown",
   "metadata": {},
   "source": [
    "**Checking for GPU Availability**"
   ]
  },
  {
   "cell_type": "code",
   "execution_count": 2,
   "metadata": {},
   "outputs": [
    {
     "name": "stdout",
     "output_type": "stream",
     "text": [
      "Using device: cuda\n"
     ]
    }
   ],
   "source": [
    "# Check if GPU is available\n",
    "device = torch.device('cuda' if torch.cuda.is_available() else 'cpu')\n",
    "print(f'Using device: {device}')"
   ]
  },
  {
   "cell_type": "markdown",
   "metadata": {},
   "source": [
    "**Data Prep**"
   ]
  },
  {
   "cell_type": "code",
   "execution_count": 3,
   "metadata": {},
   "outputs": [
    {
     "name": "stdout",
     "output_type": "stream",
     "text": [
      "All ready...\n"
     ]
    }
   ],
   "source": [
    "# zde bude část, kdy je třeba stáhnout obrázky, otagovat je, a uložit do složky\n",
    "# FUCK GOOGLE DRIVE\n",
    "# It takes quite a long time (1m 22s), but it does not need to be ran again\n",
    "filename = 'dataset.zip'\n",
    "if not os.path.isdir('train') or not os.path.isdir('val') or not os.path.isfile(filename):\n",
    "    urlretrieve(\"https://plik.zapadlo.name/file/LGJjW9v9CbISPMDR/tn89O8CDuRwhUEa4/aquarium_fish_dataset.zip\", filename)\n",
    "\n",
    "    with ZipFile(filename, 'r') as zip_ref:\n",
    "        zip_ref.extractall('.')\n",
    "else:\n",
    "    print('All ready...')"
   ]
  },
  {
   "cell_type": "markdown",
   "metadata": {},
   "source": [
    "**Data Resize** - we want to resize all images to 28x28 format"
   ]
  },
  {
   "cell_type": "code",
   "execution_count": 4,
   "metadata": {},
   "outputs": [],
   "source": [
    "from torchvision import datasets, transforms\n",
    "\n",
    "# Data transformations\n",
    "transform = transforms.Compose([\n",
    "    transforms.Resize((64, 64)),\n",
    "    transforms.ToTensor(),\n",
    "])"
   ]
  },
  {
   "cell_type": "code",
   "execution_count": 5,
   "metadata": {},
   "outputs": [
    {
     "data": {
      "text/plain": [
       "<matplotlib.image.AxesImage at 0x7f3ac3268730>"
      ]
     },
     "execution_count": 5,
     "metadata": {},
     "output_type": "execute_result"
    },
    {
     "data": {
      "image/png": "[encoded data removed]",
      "text/plain": [
       "<Figure size 640x480 with 1 Axes>"
      ]
     },
     "metadata": {},
     "output_type": "display_data"
    }
   ],
   "source": [
    "# Needed to run `pip install opencv-python` in the terminal\n",
    "from PIL import Image\n",
    "import matplotlib.pyplot as plt\n",
    "img = Image.open(\"train/Corydoras_panda/Corydoras_panda_1.jpg\")\n",
    "plt.imshow(  transform(img).permute(1, 2, 0)  )"
   ]
  },
  {
   "cell_type": "markdown",
   "metadata": {},
   "source": [
    "**Dataset Loading**"
   ]
  },
  {
   "cell_type": "code",
   "execution_count": 6,
   "metadata": {},
   "outputs": [],
   "source": [
    "# Load the dataset - dodělat, až bude hotovo stáhnutí a otagování\n",
    "train_set = datasets.ImageFolder(root='train/', transform=transform)\n",
    "train_loader = torch.utils.data.DataLoader(train_set, batch_size=256, shuffle=True)\n",
    "\n",
    "# Download and load the test data\n",
    "test_set = datasets.ImageFolder(root='val/', transform=transform)\n",
    "test_loader = torch.utils.data.DataLoader(test_set, batch_size=256, shuffle=False)"
   ]
  },
  {
   "cell_type": "markdown",
   "metadata": {},
   "source": [
    "**Builing simple CNN**"
   ]
  },
  {
   "cell_type": "code",
   "execution_count": 7,
   "metadata": {},
   "outputs": [
    {
     "data": {
      "text/plain": [
       "SimpleCNN(\n",
       "  (conv1): Conv2d(3, 32, kernel_size=(11, 11), stride=(1, 1))\n",
       "  (conv2): Conv2d(32, 64, kernel_size=(11, 11), stride=(1, 1))\n",
       "  (flat): Flatten(start_dim=1, end_dim=-1)\n",
       "  (fc1): Linear(in_features=123904, out_features=1028, bias=True)\n",
       "  (fc2): Linear(in_features=1028, out_features=256, bias=True)\n",
       "  (fc_end): Linear(in_features=256, out_features=5, bias=True)\n",
       ")"
      ]
     },
     "execution_count": 7,
     "metadata": {},
     "output_type": "execute_result"
    }
   ],
   "source": [
    "class SimpleCNN(nn.Module):\n",
    "    def __init__(self):\n",
    "        super(SimpleCNN, self).__init__()\n",
    "        self.conv1 = nn.Conv2d(in_channels=3, out_channels=32, kernel_size=11)\n",
    "        self.conv2 = nn.Conv2d(in_channels=32, out_channels=64, kernel_size=11)\n",
    "        self.flat = nn.Flatten()\n",
    "        self.fc1 = nn.Linear(in_features=44*44*64, out_features=1028)\n",
    "        #self.drop = nn.Dropout(0.25)\n",
    "        self.fc2 = nn.Linear(in_features=1028, out_features=256)\n",
    "        self.fc_end = nn.Linear(in_features=256, out_features=5)\n",
    "\n",
    "    def forward(self, x):\n",
    "        x = F.relu(self.conv1(x))\n",
    "        x = F.relu(self.conv2(x))\n",
    "        x = self.flat(x)\n",
    "        x = F.relu(self.fc1(x))\n",
    "        #x = self.drop(x)\n",
    "        x = F.relu(self.fc2(x))\n",
    "        x = self.fc_end(x)\n",
    "        return x\n",
    "\n",
    "model = SimpleCNN().to(device)\n",
    "model"
   ]
  },
  {
   "cell_type": "code",
   "execution_count": 8,
   "metadata": {},
   "outputs": [],
   "source": [
    "criterion = nn.CrossEntropyLoss()\n",
    "optimizer = optim.SGD(model.parameters(), lr=0.01)"
   ]
  },
  {
   "cell_type": "code",
   "execution_count": 9,
   "metadata": {},
   "outputs": [
    {
     "name": "stdout",
     "output_type": "stream",
     "text": [
      "Epoch [1/30], Loss: 1.6109\n",
      "Epoch [2/30], Loss: 1.6055\n",
      "Epoch [3/30], Loss: 1.6057\n",
      "Epoch [4/30], Loss: 1.6004\n",
      "Epoch [5/30], Loss: 1.5945\n",
      "Epoch [6/30], Loss: 1.5895\n",
      "Epoch [7/30], Loss: 1.5880\n",
      "Epoch [8/30], Loss: 1.5824\n",
      "Epoch [9/30], Loss: 1.5818\n",
      "Epoch [10/30], Loss: 1.5759\n",
      "Epoch [11/30], Loss: 1.5594\n",
      "Epoch [12/30], Loss: 1.5753\n",
      "Epoch [13/30], Loss: 1.5671\n",
      "Epoch [14/30], Loss: 1.5505\n",
      "Epoch [15/30], Loss: 1.5488\n",
      "Epoch [16/30], Loss: 1.5538\n",
      "Epoch [17/30], Loss: 1.5195\n",
      "Epoch [18/30], Loss: 1.5299\n",
      "Epoch [19/30], Loss: 1.5184\n",
      "Epoch [20/30], Loss: 1.5088\n",
      "Epoch [21/30], Loss: 1.4908\n",
      "Epoch [22/30], Loss: 1.4972\n",
      "Epoch [23/30], Loss: 1.4676\n",
      "Epoch [24/30], Loss: 1.4862\n",
      "Epoch [25/30], Loss: 1.4650\n",
      "Epoch [26/30], Loss: 1.4358\n",
      "Epoch [27/30], Loss: 1.4679\n",
      "Epoch [28/30], Loss: 1.4101\n",
      "Epoch [29/30], Loss: 1.4105\n",
      "Epoch [30/30], Loss: 1.4227\n"
     ]
    }
   ],
   "source": [
    "for epoch in range(30): \n",
    "    running_loss = 0.0\n",
    "    for images, labels in train_loader:\n",
    "        # Move images and labels to the device\n",
    "        images = images.to(device)\n",
    "        labels = labels.to(device)\n",
    "\n",
    "        # Zero the parameter gradients\n",
    "        optimizer.zero_grad()\n",
    "\n",
    "        # Forward pass\n",
    "        outputs = model(images)\n",
    "        loss = criterion(outputs, labels)\n",
    "\n",
    "        # Backward pass and optimize\n",
    "        loss.backward()\n",
    "        optimizer.step()\n",
    "\n",
    "        running_loss += loss.item()\n",
    "\n",
    "    print(f'Epoch [{epoch+1}/30], Loss: {running_loss / len(train_loader):.4f}')"
   ]
  },
  {
   "cell_type": "code",
   "execution_count": 10,
   "metadata": {},
   "outputs": [
    {
     "name": "stdout",
     "output_type": "stream",
     "text": [
      "Accuracy: 44.50%\n"
     ]
    }
   ],
   "source": [
    "correct = 0\n",
    "total = 0\n",
    "with torch.no_grad():  # Disable gradient calculation for evaluation\n",
    "    for images, labels in test_loader:\n",
    "        # Move images and labels to the device\n",
    "        images = images.to(device)\n",
    "        labels = labels.to(device)\n",
    "\n",
    "        outputs = model(images)\n",
    "        _, predicted = torch.max(outputs, 1)\n",
    "        total += labels.size(0)\n",
    "        correct += (predicted == labels).sum().item()\n",
    "\n",
    "print(f'Accuracy: {100 * correct / total:.2f}%')"
   ]
  },
  {
   "cell_type": "code",
   "execution_count": null,
   "metadata": {},
   "outputs": [],
   "source": []
  }
 ],
 "metadata": {
  "language_info": {
   "name": "python"
  }
 },
 "nbformat": 4,
 "nbformat_minor": 2
}
